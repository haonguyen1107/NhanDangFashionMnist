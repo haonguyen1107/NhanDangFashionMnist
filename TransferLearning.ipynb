{
  "nbformat": 4,
  "nbformat_minor": 0,
  "metadata": {
    "colab": {
      "name": "quần áo transfer.ipynb",
      "provenance": [],
      "collapsed_sections": [],
      "machine_shape": "hm"
    },
    "kernelspec": {
      "name": "python3",
      "display_name": "Python 3"
    },
    "accelerator": "TPU"
  },
  "cells": [
    {
      "cell_type": "markdown",
      "metadata": {
        "id": "LHG9bsY-Gn8I",
        "colab_type": "text"
      },
      "source": [
        "**IMPORT THƯ VIỆN**"
      ]
    },
    {
      "cell_type": "code",
      "metadata": {
        "id": "1AjTldMKf7os",
        "colab_type": "code",
        "outputId": "ee79869a-b261-4aea-b043-0c09c632a461",
        "colab": {
          "base_uri": "https://localhost:8080/",
          "height": 34
        }
      },
      "source": [
        "%tensorflow_version 1.x\n",
        "from keras.utils import to_categorical\n",
        "import tensorflow as tf\n",
        "import sklearn\n",
        "from tensorflow.keras.preprocessing.image import ImageDataGenerator\n",
        "from sklearn.model_selection import train_test_split\n",
        "import seaborn as sns\n",
        "import math\n",
        "import numpy as np\n",
        "import pandas as pd\n",
        "import matplotlib.pyplot as plt\n",
        "from matplotlib import*\n",
        "import plotly.graph_objs as go\n",
        "from plotly import tools\n",
        "from plotly.offline import download_plotlyjs, init_notebook_mode, plot, iplot\n",
        "from keras.applications import VGG16;\n",
        "from keras.applications.vgg16 import preprocess_input\n",
        "import tensorflow_hub as tfHub\n",
        "from tensorflow.keras import layers as tfLayers\n",
        "from keras import models\n",
        "from keras.models import Model\n",
        "from keras import layers"
      ],
      "execution_count": 0,
      "outputs": [
        {
          "output_type": "stream",
          "text": [
            "Using TensorFlow backend.\n"
          ],
          "name": "stderr"
        }
      ]
    },
    {
      "cell_type": "code",
      "metadata": {
        "id": "1Cwqejib4f-P",
        "colab_type": "code",
        "colab": {}
      },
      "source": [
        ""
      ],
      "execution_count": 0,
      "outputs": []
    },
    {
      "cell_type": "markdown",
      "metadata": {
        "id": "XDBXQtinGkG2",
        "colab_type": "text"
      },
      "source": [
        "**DOWLOAD DỮ LIỆU**"
      ]
    },
    {
      "cell_type": "code",
      "metadata": {
        "id": "AO-kVdYzgoIS",
        "colab_type": "code",
        "outputId": "0e03c2ea-49c3-45a6-f951-0d3a887044a0",
        "colab": {
          "base_uri": "https://localhost:8080/",
          "height": 202
        }
      },
      "source": [
        "!pip install kaggle"
      ],
      "execution_count": 0,
      "outputs": [
        {
          "output_type": "stream",
          "text": [
            "Requirement already satisfied: kaggle in /usr/local/lib/python3.6/dist-packages (1.5.6)\n",
            "Requirement already satisfied: urllib3<1.25,>=1.21.1 in /usr/local/lib/python3.6/dist-packages (from kaggle) (1.24.3)\n",
            "Requirement already satisfied: python-dateutil in /usr/local/lib/python3.6/dist-packages (from kaggle) (2.6.1)\n",
            "Requirement already satisfied: python-slugify in /usr/local/lib/python3.6/dist-packages (from kaggle) (4.0.0)\n",
            "Requirement already satisfied: requests in /usr/local/lib/python3.6/dist-packages (from kaggle) (2.21.0)\n",
            "Requirement already satisfied: tqdm in /usr/local/lib/python3.6/dist-packages (from kaggle) (4.28.1)\n",
            "Requirement already satisfied: certifi in /usr/local/lib/python3.6/dist-packages (from kaggle) (2019.11.28)\n",
            "Requirement already satisfied: six>=1.10 in /usr/local/lib/python3.6/dist-packages (from kaggle) (1.12.0)\n",
            "Requirement already satisfied: text-unidecode>=1.3 in /usr/local/lib/python3.6/dist-packages (from python-slugify->kaggle) (1.3)\n",
            "Requirement already satisfied: idna<2.9,>=2.5 in /usr/local/lib/python3.6/dist-packages (from requests->kaggle) (2.8)\n",
            "Requirement already satisfied: chardet<3.1.0,>=3.0.2 in /usr/local/lib/python3.6/dist-packages (from requests->kaggle) (3.0.4)\n"
          ],
          "name": "stdout"
        }
      ]
    },
    {
      "cell_type": "code",
      "metadata": {
        "id": "rQ3x9NuJgq5U",
        "colab_type": "code",
        "colab": {}
      },
      "source": [
        "! mkdir ~/.kaggle"
      ],
      "execution_count": 0,
      "outputs": []
    },
    {
      "cell_type": "code",
      "metadata": {
        "id": "Lydwd-aukXug",
        "colab_type": "code",
        "colab": {}
      },
      "source": [
        "!cp './kaggle.json' '/root/.kaggle/'"
      ],
      "execution_count": 0,
      "outputs": []
    },
    {
      "cell_type": "code",
      "metadata": {
        "id": "dD1RccqSgs28",
        "colab_type": "code",
        "outputId": "c00aa572-0c7a-4cf6-ed24-06fce04fa1fd",
        "colab": {
          "base_uri": "https://localhost:8080/",
          "height": 84
        }
      },
      "source": [
        "!kaggle datasets download --force -d 'zalando-research/fashionmnist'\n",
        "!rm '/root/.kaggle/kaggle.json'"
      ],
      "execution_count": 0,
      "outputs": [
        {
          "output_type": "stream",
          "text": [
            "Warning: Your Kaggle API key is readable by other users on this system! To fix this, you can run 'chmod 600 /root/.kaggle/kaggle.json'\n",
            "Downloading fashionmnist.zip to /content\n",
            " 95% 65.0M/68.8M [00:00<00:00, 61.3MB/s]\n",
            "100% 68.8M/68.8M [00:00<00:00, 78.8MB/s]\n"
          ],
          "name": "stdout"
        }
      ]
    },
    {
      "cell_type": "code",
      "metadata": {
        "id": "MqBExLPlgvJt",
        "colab_type": "code",
        "outputId": "98fae12b-e36b-4e72-f03a-1666ee2d5ff8",
        "colab": {
          "base_uri": "https://localhost:8080/",
          "height": 134
        }
      },
      "source": [
        "!unzip 'fashionmnist.zip' -d 'my_data'"
      ],
      "execution_count": 0,
      "outputs": [
        {
          "output_type": "stream",
          "text": [
            "Archive:  fashionmnist.zip\n",
            "  inflating: my_data/fashion-mnist_test.csv  \n",
            "  inflating: my_data/fashion-mnist_train.csv  \n",
            "  inflating: my_data/t10k-images-idx3-ubyte  \n",
            "  inflating: my_data/t10k-labels-idx1-ubyte  \n",
            "  inflating: my_data/train-images-idx3-ubyte  \n",
            "  inflating: my_data/train-labels-idx1-ubyte  \n"
          ],
          "name": "stdout"
        }
      ]
    },
    {
      "cell_type": "code",
      "metadata": {
        "id": "L1yA__big6qE",
        "colab_type": "code",
        "colab": {}
      },
      "source": [
        "train_dataset = pd.read_csv('./my_data/fashion-mnist_train.csv').values\n",
        "test_dataset = pd.read_csv('./my_data/fashion-mnist_test.csv').values\n",
        "train_data = pd.read_csv('./my_data/fashion-mnist_train.csv')\n",
        "test_data = pd.read_csv('./my_data/fashion-mnist_test.csv')\n",
        "num_train_examples = len(train_dataset)\n",
        "num_test_examples = len(test_dataset)"
      ],
      "execution_count": 0,
      "outputs": []
    },
    {
      "cell_type": "code",
      "metadata": {
        "id": "WN4yP3d9CIbH",
        "colab_type": "code",
        "outputId": "7eab9e88-f35a-4223-9144-8c5631662e65",
        "colab": {
          "base_uri": "https://localhost:8080/",
          "height": 34
        }
      },
      "source": [
        "train_dataset.shape,train_data.shape\n"
      ],
      "execution_count": 0,
      "outputs": [
        {
          "output_type": "execute_result",
          "data": {
            "text/plain": [
              "((60000, 785), (60000, 785))"
            ]
          },
          "metadata": {
            "tags": []
          },
          "execution_count": 14
        }
      ]
    },
    {
      "cell_type": "code",
      "metadata": {
        "id": "MhKdEgg0gydt",
        "colab_type": "code",
        "colab": {}
      },
      "source": [
        "class_names = ['T-shirt/top', 'Trouser', 'Pullover', 'Dress', 'Coat',\n",
        "               'Sandal',      'Shirt',   'Sneaker',  'Bag',   'Ankle boot']\n",
        "num_classes = len(class_names)"
      ],
      "execution_count": 0,
      "outputs": []
    },
    {
      "cell_type": "code",
      "metadata": {
        "id": "lSHC0ucMg1FN",
        "colab_type": "code",
        "outputId": "6989b389-e7c3-4b5f-a287-7bd9d67a4a48",
        "colab": {
          "base_uri": "https://localhost:8080/",
          "height": 67
        }
      },
      "source": [
        "print('num_train: ',num_train_examples)\n",
        "print('num_test: ',num_test_examples)\n",
        "print('num_class: ',num_classes)"
      ],
      "execution_count": 0,
      "outputs": [
        {
          "output_type": "stream",
          "text": [
            "num_train:  60000\n",
            "num_test:  10000\n",
            "num_class:  10\n"
          ],
          "name": "stdout"
        }
      ]
    },
    {
      "cell_type": "code",
      "metadata": {
        "id": "5U-VjV0DhNfV",
        "colab_type": "code",
        "colab": {}
      },
      "source": [
        "train_data.shape #(60,000*785)\n",
        "test_data.shape #(10000,785)\n",
        "train_X= np.array(train_data.iloc[:,1:])\n",
        "test_X= np.array(test_data.iloc[:,1:])\n",
        "train_Y= np.array (train_data.iloc[:,0]) # (60000,)\n",
        "test_Y = np.array(test_data.iloc[:,0]) #(10000,)"
      ],
      "execution_count": 0,
      "outputs": []
    },
    {
      "cell_type": "code",
      "metadata": {
        "id": "dab8oiJehPUr",
        "colab_type": "code",
        "outputId": "6b0d88dd-b1a9-49a4-d606-e6ff1b66b680",
        "colab": {
          "base_uri": "https://localhost:8080/",
          "height": 34
        }
      },
      "source": [
        "train_X.shape"
      ],
      "execution_count": 0,
      "outputs": [
        {
          "output_type": "execute_result",
          "data": {
            "text/plain": [
              "(60000, 784)"
            ]
          },
          "metadata": {
            "tags": []
          },
          "execution_count": 21
        }
      ]
    },
    {
      "cell_type": "code",
      "metadata": {
        "id": "yWyvNHZ4hS6T",
        "colab_type": "code",
        "outputId": "3916abfe-cb54-40a2-aaea-dbc119980403",
        "colab": {
          "base_uri": "https://localhost:8080/",
          "height": 34
        }
      },
      "source": [
        "# chuyển hình ảnh sang 3 kênh\n",
        "train_X=np.dstack([train_X] * 3)\n",
        "test_X=np.dstack([test_X]*3)\n",
        "train_X.shape,test_X.shape\n"
      ],
      "execution_count": 0,
      "outputs": [
        {
          "output_type": "execute_result",
          "data": {
            "text/plain": [
              "((60000, 784, 3), (10000, 784, 3))"
            ]
          },
          "metadata": {
            "tags": []
          },
          "execution_count": 17
        }
      ]
    },
    {
      "cell_type": "code",
      "metadata": {
        "id": "TLleZEZPhVCD",
        "colab_type": "code",
        "outputId": "823627a2-622e-46bc-cf3d-241bcd569034",
        "colab": {
          "base_uri": "https://localhost:8080/",
          "height": 34
        }
      },
      "source": [
        "# Reshape images as per the tensor format required by tensorflow\n",
        "train_X = train_X.reshape(-1, 28,28,3)\n",
        "test_X= test_X.reshape (-1,28,28,3)\n",
        "train_X.shape,test_X.shape"
      ],
      "execution_count": 0,
      "outputs": [
        {
          "output_type": "execute_result",
          "data": {
            "text/plain": [
              "((60000, 28, 28, 3), (10000, 28, 28, 3))"
            ]
          },
          "metadata": {
            "tags": []
          },
          "execution_count": 18
        }
      ]
    },
    {
      "cell_type": "code",
      "metadata": {
        "id": "SFUiPVklhWo1",
        "colab_type": "code",
        "outputId": "d00b0167-8de7-4ebb-bc6e-49b47885b28f",
        "colab": {
          "base_uri": "https://localhost:8080/",
          "height": 34
        }
      },
      "source": [
        "# Resize the images 48*48 as required by VGG16\n",
        "from keras.preprocessing.image import img_to_array, array_to_img\n",
        "train_X = np.asarray([img_to_array(array_to_img(im, scale=False).resize((48,48))) for im in train_X])\n",
        "test_X = np.asarray([img_to_array(array_to_img(im, scale=False).resize((48,48))) for im in test_X])\n",
        "#train_x = preprocess_input(x)\n",
        "train_X.shape, test_X.shape"
      ],
      "execution_count": 0,
      "outputs": [
        {
          "output_type": "execute_result",
          "data": {
            "text/plain": [
              "((60000, 48, 48, 3), (10000, 48, 48, 3))"
            ]
          },
          "metadata": {
            "tags": []
          },
          "execution_count": 19
        }
      ]
    },
    {
      "cell_type": "code",
      "metadata": {
        "id": "iyjZzyXrhZ_b",
        "colab_type": "code",
        "colab": {}
      },
      "source": [
        "\n",
        "train_Y_one_hot = to_categorical(train_Y)\n",
        "test_Y_one_hot = to_categorical(test_Y)"
      ],
      "execution_count": 0,
      "outputs": []
    },
    {
      "cell_type": "code",
      "metadata": {
        "id": "eQgiYQV1hfr9",
        "colab_type": "code",
        "colab": {}
      },
      "source": [
        "IMG_WIDTH = 48\n",
        "IMG_HEIGHT = 48\n",
        "IMG_DEPTH = 3\n",
        "BATCH_SIZE = 32"
      ],
      "execution_count": 0,
      "outputs": []
    },
    {
      "cell_type": "code",
      "metadata": {
        "id": "gz9FD9QuhjBe",
        "colab_type": "code",
        "outputId": "786e2c5e-4e9c-4545-fc72-8280eaf7cdc1",
        "colab": {
          "base_uri": "https://localhost:8080/",
          "height": 34
        }
      },
      "source": [
        "train_X.shape"
      ],
      "execution_count": 0,
      "outputs": [
        {
          "output_type": "execute_result",
          "data": {
            "text/plain": [
              "(60000, 48, 48, 3)"
            ]
          },
          "metadata": {
            "tags": []
          },
          "execution_count": 23
        }
      ]
    },
    {
      "cell_type": "markdown",
      "metadata": {
        "id": "UIRP279KA7D7",
        "colab_type": "text"
      },
      "source": [
        "**FEATURE EXTRACTOR**"
      ]
    },
    {
      "cell_type": "code",
      "metadata": {
        "id": "-2sRntU1nZ-j",
        "colab_type": "code",
        "colab": {}
      },
      "source": [
        "train_X = train_X / 255.\n",
        "test_X = test_X / 255.\n",
        "train_X = train_X.astype('float32')\n",
        "test_X = test_X.astype('float32')"
      ],
      "execution_count": 0,
      "outputs": []
    },
    {
      "cell_type": "code",
      "metadata": {
        "id": "XpSM4AbEA3F5",
        "colab_type": "code",
        "outputId": "23b9077b-a5ab-4425-ce5f-e1c2d6a06577",
        "colab": {
          "base_uri": "https://localhost:8080/",
          "height": 87
        }
      },
      "source": [
        "conv_base=tf.keras.applications.VGG16(weights='imagenet',\n",
        "                  include_top=False, \n",
        "                  input_shape=(IMG_HEIGHT, IMG_WIDTH, IMG_DEPTH)\n",
        "                 )"
      ],
      "execution_count": 0,
      "outputs": [
        {
          "output_type": "stream",
          "text": [
            "WARNING:tensorflow:From /usr/local/lib/python3.6/dist-packages/tensorflow_core/python/ops/resource_variable_ops.py:1630: calling BaseResourceVariable.__init__ (from tensorflow.python.ops.resource_variable_ops) with constraint is deprecated and will be removed in a future version.\n",
            "Instructions for updating:\n",
            "If using Keras pass *_constraint arguments to layers.\n"
          ],
          "name": "stdout"
        }
      ]
    },
    {
      "cell_type": "code",
      "metadata": {
        "id": "5Hdaay2dAIit",
        "colab_type": "code",
        "outputId": "c9bab616-b04a-43d6-d5f6-2ddec14e4fa9",
        "colab": {
          "base_uri": "https://localhost:8080/",
          "height": 101
        }
      },
      "source": [
        "train_features = conv_base.predict(np.array(train_X), batch_size=BATCH_SIZE, verbose=1)\n",
        "test_features = conv_base.predict(np.array(test_X), batch_size=BATCH_SIZE, verbose=1)\n",
        "\n",
        "print(train_features.shape, \"\\n\",  test_features.shape, \"\\n\")"
      ],
      "execution_count": 0,
      "outputs": [
        {
          "output_type": "stream",
          "text": [
            "60000/60000 [==============================] - 1433s 24ms/sample\n",
            "10000/10000 [==============================] - 236s 24ms/sample\n",
            "(60000, 1, 1, 512) \n",
            " (10000, 1, 1, 512) \n",
            "\n"
          ],
          "name": "stdout"
        }
      ]
    },
    {
      "cell_type": "code",
      "metadata": {
        "id": "PgjiuNH4AMus",
        "colab_type": "code",
        "colab": {}
      },
      "source": [
        "# Flatten extracted features\n",
        "train_features_flat = np.reshape(train_features, (60000, 1*1*512))\n",
        "test_features_flat = np.reshape(test_features, (10000, 1*1*512))\n",
        "#svm_train=train_features.reshape((60000, 1*1*512))\n",
        "svm_train=train_features_flat\n",
        "svm_y=train_Y"
      ],
      "execution_count": 0,
      "outputs": []
    },
    {
      "cell_type": "code",
      "metadata": {
        "id": "_4sbDJ4UuZJo",
        "colab_type": "code",
        "colab": {}
      },
      "source": [
        "from sklearn.multiclass import OneVsRestClassifier\n",
        "from sklearn.svm import LinearSVC\n",
        "\n",
        "clf = OneVsRestClassifier(LinearSVC())\n",
        "model=clf.fit(svm_train, svm_y)"
      ],
      "execution_count": 0,
      "outputs": []
    },
    {
      "cell_type": "code",
      "metadata": {
        "id": "dG_vMSyRIY8L",
        "colab_type": "code",
        "outputId": "b1907fcb-4654-459f-f141-debfebbc15d1",
        "colab": {
          "base_uri": "https://localhost:8080/",
          "height": 302
        }
      },
      "source": [
        "from sklearn.metrics import classification_report\n",
        "preds = clf.predict(test_features_flat)\n",
        "print(classification_report(test_Y, preds))"
      ],
      "execution_count": 0,
      "outputs": [
        {
          "output_type": "stream",
          "text": [
            "              precision    recall  f1-score   support\n",
            "\n",
            "           0       0.80      0.82      0.81      1000\n",
            "           1       0.99      0.98      0.98      1000\n",
            "           2       0.81      0.81      0.81      1000\n",
            "           3       0.85      0.89      0.87      1000\n",
            "           4       0.78      0.83      0.80      1000\n",
            "           5       0.96      0.95      0.96      1000\n",
            "           6       0.69      0.59      0.64      1000\n",
            "           7       0.92      0.94      0.93      1000\n",
            "           8       0.97      0.97      0.97      1000\n",
            "           9       0.96      0.95      0.95      1000\n",
            "\n",
            "    accuracy                           0.87     10000\n",
            "   macro avg       0.87      0.87      0.87     10000\n",
            "weighted avg       0.87      0.87      0.87     10000\n",
            "\n"
          ],
          "name": "stdout"
        }
      ]
    },
    {
      "cell_type": "markdown",
      "metadata": {
        "id": "31vuATdlGhQQ",
        "colab_type": "text"
      },
      "source": [
        "**Fine tuning** \n",
        "\n",
        "1) Chuyển đổi hình ảnh với 1 kênh thành 3 kênh\n",
        "\n",
        "2) Thay đổi kích thước hình ảnh\n",
        "\n",
        "3) Sử dụng mô hình cơ sở VGG16, nối thêm các lớp khác và trích xuất các tính năng\n",
        "\n"
      ]
    },
    {
      "cell_type": "code",
      "metadata": {
        "id": "NeIbVO2BO2PO",
        "colab_type": "code",
        "colab": {}
      },
      "source": [
        "Xtrain,valid_X,ytrain,valid_label = train_test_split(train_X,\n",
        "                                                           train_Y_one_hot,\n",
        "                                                           test_size=0.2,\n",
        "                                                           random_state=13\n",
        "                                                           )"
      ],
      "execution_count": 0,
      "outputs": []
    },
    {
      "cell_type": "code",
      "metadata": {
        "id": "r5DEwX5akT9P",
        "colab_type": "code",
        "colab": {}
      },
      "source": [
        "aug_train = ImageDataGenerator(\n",
        "    rescale=1./255,\n",
        "    rotation_range=40,\n",
        "    width_shift_range=0.2,\n",
        "    height_shift_range=0.2,\n",
        "    shear_range=0.2,\n",
        "    zoom_range=0.2,\n",
        "    horizontal_flip=True)\n",
        "\n",
        "# Note that the validation data should not be augmented!\n",
        "aug_val = ImageDataGenerator(rescale=1./255)\n",
        "aug_test = ImageDataGenerator(rescale=1./255)\n",
        "\n"
      ],
      "execution_count": 0,
      "outputs": []
    },
    {
      "cell_type": "code",
      "metadata": {
        "id": "9cpK0-vphkht",
        "colab_type": "code",
        "colab": {}
      },
      "source": [
        "base_model=tf.keras.applications.VGG16(weights='imagenet',\n",
        "                  include_top=False, \n",
        "                  input_shape=(IMG_HEIGHT, IMG_WIDTH, IMG_DEPTH)\n",
        "                 )\n",
        "\n",
        "for layer in base_model.layers:\n",
        "    layer.trainable = False\n"
      ],
      "execution_count": 0,
      "outputs": []
    },
    {
      "cell_type": "code",
      "metadata": {
        "id": "IlDX4PkIhmOQ",
        "colab_type": "code",
        "outputId": "5cae32ff-c4e6-41ce-c51e-e2c218fceffc",
        "colab": {
          "base_uri": "https://localhost:8080/",
          "height": 790
        }
      },
      "source": [
        "base_model.summary()"
      ],
      "execution_count": 0,
      "outputs": [
        {
          "output_type": "stream",
          "text": [
            "Model: \"vgg16\"\n",
            "_________________________________________________________________\n",
            "Layer (type)                 Output Shape              Param #   \n",
            "=================================================================\n",
            "input_2 (InputLayer)         [(None, 48, 48, 3)]       0         \n",
            "_________________________________________________________________\n",
            "block1_conv1 (Conv2D)        (None, 48, 48, 64)        1792      \n",
            "_________________________________________________________________\n",
            "block1_conv2 (Conv2D)        (None, 48, 48, 64)        36928     \n",
            "_________________________________________________________________\n",
            "block1_pool (MaxPooling2D)   (None, 24, 24, 64)        0         \n",
            "_________________________________________________________________\n",
            "block2_conv1 (Conv2D)        (None, 24, 24, 128)       73856     \n",
            "_________________________________________________________________\n",
            "block2_conv2 (Conv2D)        (None, 24, 24, 128)       147584    \n",
            "_________________________________________________________________\n",
            "block2_pool (MaxPooling2D)   (None, 12, 12, 128)       0         \n",
            "_________________________________________________________________\n",
            "block3_conv1 (Conv2D)        (None, 12, 12, 256)       295168    \n",
            "_________________________________________________________________\n",
            "block3_conv2 (Conv2D)        (None, 12, 12, 256)       590080    \n",
            "_________________________________________________________________\n",
            "block3_conv3 (Conv2D)        (None, 12, 12, 256)       590080    \n",
            "_________________________________________________________________\n",
            "block3_pool (MaxPooling2D)   (None, 6, 6, 256)         0         \n",
            "_________________________________________________________________\n",
            "block4_conv1 (Conv2D)        (None, 6, 6, 512)         1180160   \n",
            "_________________________________________________________________\n",
            "block4_conv2 (Conv2D)        (None, 6, 6, 512)         2359808   \n",
            "_________________________________________________________________\n",
            "block4_conv3 (Conv2D)        (None, 6, 6, 512)         2359808   \n",
            "_________________________________________________________________\n",
            "block4_pool (MaxPooling2D)   (None, 3, 3, 512)         0         \n",
            "_________________________________________________________________\n",
            "block5_conv1 (Conv2D)        (None, 3, 3, 512)         2359808   \n",
            "_________________________________________________________________\n",
            "block5_conv2 (Conv2D)        (None, 3, 3, 512)         2359808   \n",
            "_________________________________________________________________\n",
            "block5_conv3 (Conv2D)        (None, 3, 3, 512)         2359808   \n",
            "_________________________________________________________________\n",
            "block5_pool (MaxPooling2D)   (None, 1, 1, 512)         0         \n",
            "=================================================================\n",
            "Total params: 14,714,688\n",
            "Trainable params: 0\n",
            "Non-trainable params: 14,714,688\n",
            "_________________________________________________________________\n"
          ],
          "name": "stdout"
        }
      ]
    },
    {
      "cell_type": "code",
      "metadata": {
        "id": "hyGvhCc-FmEO",
        "colab_type": "code",
        "outputId": "eb73c72e-c006-4b85-9013-c46557725239",
        "colab": {
          "base_uri": "https://localhost:8080/",
          "height": 1000
        }
      },
      "source": [
        "from tensorflow.keras import layers, models, optimizers\n",
        "from tensorflow.keras.optimizers import RMSprop, SGD\n",
        "\n",
        "last_layer = base_model.get_layer('block5_pool')\n",
        "x=last_layer.output\n",
        "x=layers.Flatten()(x)\n",
        "x= layers.Dropout(0.4)(x)\n",
        "x = layers.Dense(512, activation='relu')(x)\n",
        "x = layers.Dense(10, activation='softmax')(x)\n",
        "\n",
        "model_3 = models.Model(inputs=base_model.input, outputs=x)\n",
        "model_3.compile(optimizer='adam',loss='categorical_crossentropy',metrics=['accuracy'])\n",
        "history= model_3.fit_generator(aug_train.flow(Xtrain,ytrain, batch_size=32), \n",
        "                               validation_data=(aug_val.flow(valid_X, valid_label,batch_size=32)),epochs=25,verbose=1)\n",
        "                            \n",
        "              \n",
        "              \n",
        "#history = model_3.fit(train_X, train_label, batch_size=32, epochs=25,validation_data=(valid_X, valid_label))"
      ],
      "execution_count": 0,
      "outputs": [
        {
          "output_type": "stream",
          "text": [
            "Epoch 1/25\n",
            "1499/1500 [============================>.] - ETA: 0s - loss: 1.0011 - acc: 0.6413Epoch 1/25\n",
            "1500/1500 [==============================] - 110s 73ms/step - loss: 1.0010 - acc: 0.6414 - val_loss: 0.6428 - val_acc: 0.7651\n",
            "Epoch 2/25\n",
            "1499/1500 [============================>.] - ETA: 0s - loss: 0.8677 - acc: 0.6861Epoch 1/25\n",
            "1500/1500 [==============================] - 109s 73ms/step - loss: 0.8676 - acc: 0.6861 - val_loss: 0.6434 - val_acc: 0.7606\n",
            "Epoch 3/25\n",
            "1499/1500 [============================>.] - ETA: 0s - loss: 0.8243 - acc: 0.6997Epoch 1/25\n",
            "1500/1500 [==============================] - 110s 73ms/step - loss: 0.8244 - acc: 0.6996 - val_loss: 0.6082 - val_acc: 0.7823\n",
            "Epoch 4/25\n",
            "1499/1500 [============================>.] - ETA: 0s - loss: 0.8002 - acc: 0.7088Epoch 1/25\n",
            "1500/1500 [==============================] - 109s 72ms/step - loss: 0.8002 - acc: 0.7088 - val_loss: 0.5756 - val_acc: 0.7954\n",
            "Epoch 5/25\n",
            "1499/1500 [============================>.] - ETA: 0s - loss: 0.7819 - acc: 0.7166Epoch 1/25\n",
            "1500/1500 [==============================] - 109s 72ms/step - loss: 0.7817 - acc: 0.7166 - val_loss: 0.5820 - val_acc: 0.7886\n",
            "Epoch 6/25\n",
            "1499/1500 [============================>.] - ETA: 0s - loss: 0.7740 - acc: 0.7164Epoch 1/25\n",
            "1500/1500 [==============================] - 109s 73ms/step - loss: 0.7741 - acc: 0.7163 - val_loss: 0.5791 - val_acc: 0.7942\n",
            "Epoch 7/25\n",
            "1499/1500 [============================>.] - ETA: 0s - loss: 0.7640 - acc: 0.7214Epoch 1/25\n",
            "1500/1500 [==============================] - 109s 72ms/step - loss: 0.7641 - acc: 0.7214 - val_loss: 0.5655 - val_acc: 0.7958\n",
            "Epoch 8/25\n",
            "1499/1500 [============================>.] - ETA: 0s - loss: 0.7518 - acc: 0.7260Epoch 1/25\n",
            "1500/1500 [==============================] - 108s 72ms/step - loss: 0.7517 - acc: 0.7261 - val_loss: 0.5668 - val_acc: 0.7945\n",
            "Epoch 9/25\n",
            "1499/1500 [============================>.] - ETA: 0s - loss: 0.7455 - acc: 0.7266Epoch 1/25\n",
            "1500/1500 [==============================] - 109s 73ms/step - loss: 0.7454 - acc: 0.7267 - val_loss: 0.5473 - val_acc: 0.7985\n",
            "Epoch 10/25\n",
            "1499/1500 [============================>.] - ETA: 0s - loss: 0.7408 - acc: 0.7297Epoch 1/25\n",
            "1500/1500 [==============================] - 108s 72ms/step - loss: 0.7408 - acc: 0.7297 - val_loss: 0.5709 - val_acc: 0.7877\n",
            "Epoch 11/25\n",
            "1499/1500 [============================>.] - ETA: 0s - loss: 0.7399 - acc: 0.7312Epoch 1/25\n",
            "1500/1500 [==============================] - 109s 72ms/step - loss: 0.7398 - acc: 0.7312 - val_loss: 0.5593 - val_acc: 0.7927\n",
            "Epoch 12/25\n",
            "1499/1500 [============================>.] - ETA: 0s - loss: 0.7314 - acc: 0.7346Epoch 1/25\n",
            "1500/1500 [==============================] - 109s 73ms/step - loss: 0.7316 - acc: 0.7345 - val_loss: 0.5541 - val_acc: 0.7863\n",
            "Epoch 13/25\n",
            "1499/1500 [============================>.] - ETA: 0s - loss: 0.7308 - acc: 0.7332Epoch 1/25\n",
            "1500/1500 [==============================] - 109s 72ms/step - loss: 0.7308 - acc: 0.7332 - val_loss: 0.5161 - val_acc: 0.8093\n",
            "Epoch 14/25\n",
            "1499/1500 [============================>.] - ETA: 0s - loss: 0.7276 - acc: 0.7372Epoch 1/25\n",
            "1500/1500 [==============================] - 109s 72ms/step - loss: 0.7276 - acc: 0.7372 - val_loss: 0.5610 - val_acc: 0.7840\n",
            "Epoch 15/25\n",
            "1499/1500 [============================>.] - ETA: 0s - loss: 0.7195 - acc: 0.7347Epoch 1/25\n",
            "1500/1500 [==============================] - 109s 73ms/step - loss: 0.7195 - acc: 0.7346 - val_loss: 0.5262 - val_acc: 0.8002\n",
            "Epoch 16/25\n",
            "1499/1500 [============================>.] - ETA: 0s - loss: 0.7166 - acc: 0.7408Epoch 1/25\n",
            "1500/1500 [==============================] - 108s 72ms/step - loss: 0.7166 - acc: 0.7407 - val_loss: 0.5343 - val_acc: 0.7997\n",
            "Epoch 17/25\n",
            "1499/1500 [============================>.] - ETA: 0s - loss: 0.7197 - acc: 0.7361Epoch 1/25\n",
            "1500/1500 [==============================] - 108s 72ms/step - loss: 0.7196 - acc: 0.7362 - val_loss: 0.5178 - val_acc: 0.8111\n",
            "Epoch 18/25\n",
            "1499/1500 [============================>.] - ETA: 0s - loss: 0.7144 - acc: 0.7385Epoch 1/25\n",
            "1500/1500 [==============================] - 109s 73ms/step - loss: 0.7145 - acc: 0.7384 - val_loss: 0.5180 - val_acc: 0.8070\n",
            "Epoch 19/25\n",
            "1499/1500 [============================>.] - ETA: 0s - loss: 0.7074 - acc: 0.7417Epoch 1/25\n",
            "1500/1500 [==============================] - 108s 72ms/step - loss: 0.7073 - acc: 0.7417 - val_loss: 0.5242 - val_acc: 0.8098\n",
            "Epoch 20/25\n",
            "1499/1500 [============================>.] - ETA: 0s - loss: 0.7046 - acc: 0.7404Epoch 1/25\n",
            "1500/1500 [==============================] - 109s 73ms/step - loss: 0.7046 - acc: 0.7404 - val_loss: 0.5226 - val_acc: 0.8114\n",
            "Epoch 21/25\n",
            "1499/1500 [============================>.] - ETA: 0s - loss: 0.7039 - acc: 0.7426Epoch 1/25\n",
            "1500/1500 [==============================] - 110s 73ms/step - loss: 0.7038 - acc: 0.7426 - val_loss: 0.5254 - val_acc: 0.8098\n",
            "Epoch 22/25\n",
            "1499/1500 [============================>.] - ETA: 0s - loss: 0.7079 - acc: 0.7420Epoch 1/25\n",
            "1500/1500 [==============================] - 108s 72ms/step - loss: 0.7077 - acc: 0.7420 - val_loss: 0.5088 - val_acc: 0.8100\n",
            "Epoch 23/25\n",
            "1499/1500 [============================>.] - ETA: 0s - loss: 0.7040 - acc: 0.7406Epoch 1/25\n",
            "1500/1500 [==============================] - 109s 73ms/step - loss: 0.7040 - acc: 0.7406 - val_loss: 0.5162 - val_acc: 0.8099\n",
            "Epoch 24/25\n",
            "1499/1500 [============================>.] - ETA: 0s - loss: 0.6956 - acc: 0.7455Epoch 1/25\n",
            "1500/1500 [==============================] - 108s 72ms/step - loss: 0.6957 - acc: 0.7454 - val_loss: 0.5353 - val_acc: 0.8046\n",
            "Epoch 25/25\n",
            "1499/1500 [============================>.] - ETA: 0s - loss: 0.6996 - acc: 0.7435Epoch 1/25\n",
            "1500/1500 [==============================] - 109s 72ms/step - loss: 0.6995 - acc: 0.7435 - val_loss: 0.5206 - val_acc: 0.8116\n"
          ],
          "name": "stdout"
        }
      ]
    },
    {
      "cell_type": "code",
      "metadata": {
        "id": "8qaJqs5xWwxJ",
        "colab_type": "code",
        "outputId": "13216f3e-d958-4dfa-e105-782f6849eaf6",
        "colab": {
          "base_uri": "https://localhost:8080/",
          "height": 545
        }
      },
      "source": [
        "acc = history.history['acc']\n",
        "val_acc = history.history['val_acc']\n",
        "loss = history.history['loss']\n",
        "val_loss = history.history['val_loss']\n",
        "epochs = range(1, len(acc) + 1)\n",
        "\n",
        "plt.title('Training and validation accuracy')\n",
        "plt.plot(epochs, acc, 'red', label='Training acc')\n",
        "plt.plot(epochs, val_acc, 'blue', label='Validation acc')\n",
        "plt.legend()\n",
        "\n",
        "plt.figure()\n",
        "plt.title('Training and validation loss')\n",
        "plt.plot(epochs, loss, 'red', label='Training loss')\n",
        "plt.plot(epochs, val_loss, 'blue', label='Validation loss')\n",
        "\n",
        "plt.legend()\n",
        "\n",
        "plt.show()"
      ],
      "execution_count": 0,
      "outputs": [
        {
          "output_type": "display_data",
          "data": {
            "image/png": "[encoded data removed]",
            "text/plain": [
              "<Figure size 432x288 with 1 Axes>"
            ]
          },
          "metadata": {
            "tags": []
          }
        },
        {
          "output_type": "display_data",
          "data": {
            "image/png": "[encoded data removed]",
            "text/plain": [
              "<Figure size 432x288 with 1 Axes>"
            ]
          },
          "metadata": {
            "tags": []
          }
        }
      ]
    },
    {
      "cell_type": "code",
      "metadata": {
        "id": "_IQvSyyX-44N",
        "colab_type": "code",
        "colab": {}
      },
      "source": [
        "def create_trace(x,y,ylabel,color):\n",
        "        trace = go.Scatter(\n",
        "            x = x,y = y,\n",
        "            name=ylabel,\n",
        "            marker=dict(color=color),\n",
        "            mode = \"markers+lines\",\n",
        "            text=x\n",
        "        )\n",
        "        return trace\n",
        "def plot_accuracy_and_loss(train_model):\n",
        "    hist = train_model.history\n",
        "    acc = hist['acc']\n",
        "    val_acc = hist['val_acc']\n",
        "    loss = hist['loss']\n",
        "    val_loss = hist['val_loss']\n",
        "    epochs = list(range(1,len(acc)+1))\n",
        "    \n",
        "    trace_ta = create_trace(epochs,acc,\"Training accuracy\", \"Green\")\n",
        "    trace_va = create_trace(epochs,val_acc,\"Validation accuracy\", \"Red\")\n",
        "    trace_tl = create_trace(epochs,loss,\"Training loss\", \"Blue\")\n",
        "    trace_vl = create_trace(epochs,val_loss,\"Validation loss\", \"Magenta\")\n",
        "   \n",
        "    fig = tools.make_subplots(rows=1,cols=2, subplot_titles=('Training and validation accuracy',\n",
        "                                                             'Training and validation loss'))\n",
        "    fig.append_trace(trace_ta,1,1)\n",
        "    fig.append_trace(trace_va,1,1)\n",
        "    fig.append_trace(trace_tl,1,2)\n",
        "    fig.append_trace(trace_vl,1,2)\n",
        "    fig['layout']['xaxis'].update(title = 'Epoch')\n",
        "    fig['layout']['xaxis2'].update(title = 'Epoch')\n",
        "    fig['layout']['yaxis'].update(title = 'Accuracy', range=[0,1])\n",
        "    fig['layout']['yaxis2'].update(title = 'Loss', range=[0,1])\n",
        "\n",
        "    \n",
        "    iplot(fig, filename='accuracy-loss')"
      ],
      "execution_count": 0,
      "outputs": []
    },
    {
      "cell_type": "code",
      "metadata": {
        "id": "VnuuBkRHJtZq",
        "colab_type": "code",
        "outputId": "07cff9dd-c606-4da9-915e-a991b1b04742",
        "colab": {
          "base_uri": "https://localhost:8080/",
          "height": 302
        }
      },
      "source": [
        "from sklearn.metrics import classification_report\n",
        "preds = model_3.predict(test_X)\n",
        "print(classification_report(np.argmax(test_Y_one_hot, axis=1), np.argmax(preds, axis=1)))\n",
        "                            \n",
        "                      "
      ],
      "execution_count": 0,
      "outputs": [
        {
          "output_type": "stream",
          "text": [
            "              precision    recall  f1-score   support\n",
            "\n",
            "           0       0.43      0.80      0.56      1000\n",
            "           1       0.98      0.84      0.91      1000\n",
            "           2       0.51      0.76      0.61      1000\n",
            "           3       0.49      0.70      0.58      1000\n",
            "           4       0.54      0.52      0.53      1000\n",
            "           5       0.57      0.18      0.28      1000\n",
            "           6       0.15      0.17      0.16      1000\n",
            "           7       0.91      0.10      0.17      1000\n",
            "           8       0.63      0.65      0.64      1000\n",
            "           9       0.82      0.68      0.75      1000\n",
            "\n",
            "    accuracy                           0.54     10000\n",
            "   macro avg       0.60      0.54      0.52     10000\n",
            "weighted avg       0.60      0.54      0.52     10000\n",
            "\n"
          ],
          "name": "stdout"
        }
      ]
    },
    {
      "cell_type": "markdown",
      "metadata": {
        "id": "Qhmf10e2-3hV",
        "colab_type": "text"
      },
      "source": [
        "Run the following cell to terminate the kernel and free memory resources:\n",
        "\n"
      ]
    },
    {
      "cell_type": "code",
      "metadata": {
        "id": "X-PCNrNKLbsR",
        "colab_type": "code",
        "colab": {}
      },
      "source": [
        "import os, signal\n",
        "os.kill(os.getpid(), signal.SIGKILL)"
      ],
      "execution_count": 0,
      "outputs": []
    }
  ]
}